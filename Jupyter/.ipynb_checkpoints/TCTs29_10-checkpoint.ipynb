{
 "cells": [
  {
   "cell_type": "markdown",
   "metadata": {},
   "source": [
    "# Bachelor Zeiten und Zeitverteilungen\n",
    "\n",
    "\n",
    "<br>SSt: 56, 58, 56, 87, 76, 101, 50 = 484s = 8:04min gesamt;\n",
    "<br>MSt: 59, 69, 66, ??, 57, 85, 51 = 387s+ ?? = 6:27min + ?? gesamt;(davon beidhändig: ca. 118s, aber kein teil des sets da absturz)\n",
    "<br>MM: 97, 529, ??, 152, 172, 273, 174= 1397s + ?? = 23:17min + ?? gesamt; davon beidhändig: 300s\n",
    "<br>SM: 358, 424, 216, 489, 140, 319(abbruch), 166 = 1793s + 319(abbruch) = 29:53 min + 5:19 abbruch gesamt; \n",
    "<br>\n",
    "--> Gesamtwerte; ?? und abbrüche entfernt\n",
    "\n",
    "<br>Mouse gesamt: 23:17min+29:53min = 97, 529, 152, 172, 273, 174, 358, 424, 216, 489, 140, 166 = 53:10 min;\n",
    "<br>Stamp gesamt: 8:04min+6:27min = 56, 58, 56, 87, 76, 101, 50, 59, 69, 66, 57, 85, 51 = 14:31 min; \n",
    "\n",
    "<br>Single gesamt: 8:04min+29:53min = 56, 58, 56, 87, 76, 101, 50, 358, 424, 216, 489, 140, 166 = 37:57min;\n",
    "<br>Multiple gesamt: 6:27min+23:17min = 59, 69, 66, 57, 85, 51, 97, 529, 152, 172, 273, 174 = 29:44min;s\n",
    "<br>Beidhändige Zeit bei Multiple gesamt: 300s = 5:00min (118s aus S4 MST nicht inbegriffen, siehe oben)"
   ]
  },
  {
   "cell_type": "code",
   "execution_count": 19,
   "metadata": {},
   "outputs": [
    {
     "name": "stdout",
     "output_type": "stream",
     "text": [
      "  participant_ID  SingleStamp  MultipleStamp  SingleMouse  MultipleMouse\n",
      "0             S1           56           59.0        358.0             97\n",
      "1             S2           58           69.0        424.0            529\n",
      "2             S3           56           66.0        216.0            188\n",
      "3             S4           87            NaN        489.0            152\n",
      "4             S5           76           57.0        140.0            172\n",
      "5             S6          101           85.0          NaN            273\n",
      "6             S7           50           51.0        166.0            174\n",
      "       SingleStamp  MultipleStamp  SingleMouse  MultipleMouse\n",
      "count     7.000000       6.000000     6.000000       7.000000\n",
      "mean     69.142857      64.500000   298.833333     226.428571\n",
      "std      19.221763      11.928956   144.958500     143.293239\n",
      "min      50.000000      51.000000   140.000000      97.000000\n",
      "25%      56.000000      57.500000   178.500000     162.000000\n",
      "50%      58.000000      62.500000   287.000000     174.000000\n",
      "75%      81.500000      68.250000   407.500000     230.500000\n",
      "max     101.000000      85.000000   489.000000     529.000000\n"
     ]
    }
   ],
   "source": [
    "from matplotlib import pyplot as plt\n",
    "import scipy.stats as stats\n",
    "import numpy as np\n",
    "import pandas as pd\n",
    "\n",
    "TCTs = pd.read_csv(\"TCTs.csv\")\n",
    "\n",
    "\n",
    "MultipleStamp = TCTs[\"MultipleStamp\"].tolist()\n",
    "SingleMouse = TCTs[\"SingleMouse\"].tolist()\n",
    "\n",
    "# NaN Werte aus beiden spalten entfernt\n",
    "\n",
    "MultipleStamp = [x for x in MultipleStamp if (np.isnan(x) == False)]\n",
    "SingleMouse = [x for x in SingleMouse if (np.isnan(x) == False)]\n",
    "\n",
    "# Obergruppen der Zeiten\n",
    "\n",
    "MousePure = SingleMouse+TCTs[\"MultipleMouse\"].tolist()\n",
    "StampPure = TCTs[\"SingleStamp\"].tolist()+MultipleStamp\n",
    "SinglePure = SingleMouse+TCTs[\"SingleStamp\"].tolist()\n",
    "MultiplePure = TCTs[\"MultipleMouse\"].tolist()+MultipleStamp\n",
    "print(TCTs)\n",
    "description = TCTs.describe()\n",
    "print(description)"
   ]
  },
  {
   "cell_type": "code",
   "execution_count": 38,
   "metadata": {},
   "outputs": [],
   "source": [
    "# print (\"Mittelwerte und Standardabweichungen: \")\n",
    "# SSmean = np.mean(SingleStamp)\n",
    "# SSstd = np.std(SingleStamp)\n",
    "# print (\"SingleStamp; Mittelwert: \" + str(SSmean) + \", Standardabweichung: \" + str(SSstd))\n",
    "\n",
    "# print (\" \")\n",
    "# MStmean = np.mean(MultipleStamp)\n",
    "# MStstd = np.std(MultipleStamp)\n",
    "# print (\"MultipleStamp; Mittelwert: \" + str(MStmean) + \", Standardabweichung: \" + str(MStstd))\n",
    "\n",
    "# print (\" \")\n",
    "# SMmean = np.mean(SingleMouse)\n",
    "# SMstd = np.std(SingleMouse)\n",
    "# print (\"SingleMouse; Mittelwert: \" + str(SMmean) + \", Standardabweichung: \" + str(SMstd))\n",
    "\n",
    "# print (\" \")\n",
    "# MMmean = np.mean(MultipleMouse)\n",
    "# MMstd = np.std(MultipleMouse)\n",
    "# print (\"MultipleMouse; Mittelwert: \" + str(MMmean) + \", Standardabweichung: \" + str(MMstd))\n",
    "\n",
    "# print (\" \")\n",
    "# MPmean = np.mean(MousePure)\n",
    "# MPstd = np.std(MousePure)\n",
    "# print (\"MousePure; Mittelwert: \" + str(MPmean) + \", Standardabweichung: \" + str(MPstd))\n",
    "\n",
    "# print (\" \")\n",
    "# SPmean = np.mean(StampPure)\n",
    "# SPstd = np.std(StampPure)\n",
    "# print (\"StampPure; Mittelwert: \" + str(SPmean) + \", Standardabweichung: \" + str(SPstd))\n",
    "\n",
    "# print (\" \")\n",
    "# SiPmean = np.mean(SinglePure)\n",
    "# SiPstd = np.std(SinglePure)\n",
    "# print (\"SinglePure; Mittelwert: \" + str(SiPmean) + \", Standardabweichung: \" + str(SiPstd))\n",
    "\n",
    "# print (\" \")\n",
    "# MuPmean = np.mean(MultiplePure)\n",
    "# MuPstd = np.std(MultiplePure)\n",
    "# print (\"MultiplePure; Mittelwert: \" + str(MuPmean) + \", Standardabweichung: \" + str(MuPstd))"
   ]
  },
  {
   "cell_type": "markdown",
   "metadata": {},
   "source": [
    "## Copy to be sure\n",
    "Mittelwerte und Standardabweichungen: \n",
    "SingleStamp; Mittelwert: 69.14285714285714, Standardabweichung: 17.79589496347459\n",
    " \n",
    "MultipleStamp; Mittelwert: 64.5, Standardabweichung: 10.88959748261309\n",
    " \n",
    "SingleMouse; Mittelwert: 298.8333333333333, Standardabweichung: 132.32840041183735\n",
    " \n",
    "MultipleMouse; Mittelwert: 232.83333333333334, Standardabweichung: 142.2877561688129\n",
    " \n",
    "MousePure; Mittelwert: 265.8333333333333, Standardabweichung: 141.30571664145634\n",
    " \n",
    "StampPure; Mittelwert: 67.0, Standardabweichung: 15.186025965188675\n",
    " \n",
    "SinglePure; Mittelwert: 175.15384615384616, Standardabweichung: 146.16368387943393\n",
    " \n",
    "MultiplePure; Mittelwert: 148.66666666666666, Standardabweichung: 131.40099779766598\n",
    "\n",
    "## Notes\n",
    "\n",
    "Deutlich höhere TCTs bei der Maus Interaktion, allerdings auch weit größere Varianz, zurückzuführen auf Taktiken und technische Umsetzungen ODER stichprobengröße"
   ]
  },
  {
   "cell_type": "markdown",
   "metadata": {},
   "source": [
    "## Normalverteilungstests\n",
    "Shapiro-Wilk-Tests zur feststellung der Normalverteilung der Sets, da dieser auch bei kleinen Datensets funktioniert. Signifikanznivea = 0,05, also bei pvalue größer als 0,05 können die Daten als normalverteilt angenommen werden."
   ]
  },
  {
   "cell_type": "code",
   "execution_count": 16,
   "metadata": {},
   "outputs": [
    {
     "name": "stdout",
     "output_type": "stream",
     "text": [
      "SingleStamp; ShapiroResult(statistic=0.8730947971343994, pvalue=0.19751839339733124)\n",
      " \n",
      "MultipleStamp; ShapiroResult(statistic=0.9389810562133789, pvalue=0.650999903678894)\n",
      " \n",
      "SingleMouse; ShapiroResult(statistic=0.910857081413269, pvalue=0.4420590102672577)\n",
      " \n",
      "MultipleMouse; ShapiroResult(statistic=0.770541250705719, pvalue=0.02069319412112236)\n",
      " \n"
     ]
    }
   ],
   "source": [
    "print (\"SingleStamp; \" + str(stats.shapiro(TCTs[\"SingleStamp\"].tolist())))\n",
    "print (\" \")\n",
    "print (\"MultipleStamp; \" + str(stats.shapiro(MultipleStamp)))\n",
    "print (\" \")\n",
    "print (\"SingleMouse; \" + str(stats.shapiro(SingleMouse)))\n",
    "print (\" \")\n",
    "print (\"MultipleMouse; \" + str(stats.shapiro(TCTs[\"MultipleMouse\"].tolist())))\n",
    "print (\" \")\n",
    "# print (\"MousePure; \" + str(stats.shapiro(MousePure)) )\n",
    "# print (\" \")\n",
    "# print (\"StampPure; \" + str(stats.shapiro(StampPure)))\n",
    "# print (\" \")\n",
    "# print (\"SinglePure; \" + str(stats.shapiro(SinglePure)))\n",
    "# print (\" \")\n",
    "# print (\"MultiplePure; \" + str(stats.shapiro(MultiplePure)))"
   ]
  },
  {
   "cell_type": "markdown",
   "metadata": {},
   "source": [
    "### Normalverteilungen der Hauptdurchläufe\n",
    "\n",
    "Die TCTs der Durchläufe für SingleStamp, MultipleStamp und SingleMouse, sowie die Kombinierten Sets MousePure und StampPure können in jedem Fall als normalverteilt angenommen werden.\n",
    "<br>\n",
    "MultipleMouse ist auf der Kippe und hängt von der Rundung ab\n",
    "<br>\n",
    "Die kombinierten Sets SinglePure und MultiplePure können in jedem Fall aufgrund des Tests als nicht normalverteilt angenommen werden.\n",
    "\n",
    " \n",
    "MousePure; ShapiroResult(statistic=0.8734089732170105, pvalue=0.07220351696014404)\n",
    " \n",
    "StampPure; ShapiroResult(statistic=0.883215606212616, pvalue=0.07884369045495987)\n",
    " \n",
    "SinglePure; ShapiroResult(statistic=0.7958691120147705, pvalue=0.006090623792260885)\n",
    " \n",
    "MultiplePure; ShapiroResult(statistic=0.7167139649391174, pvalue=0.0012266692938283086)\n",
    "\n",
    "\n",
    "## Levene Tests\n",
    "Zur Feststellung ob der ANOVA durchgeführt werdne kann."
   ]
  },
  {
   "cell_type": "code",
   "execution_count": 21,
   "metadata": {},
   "outputs": [
    {
     "data": {
      "text/plain": [
       "LeveneResult(statistic=4.075140957971864, pvalue=0.01987729186925773)"
      ]
     },
     "execution_count": 21,
     "metadata": {},
     "output_type": "execute_result"
    }
   ],
   "source": [
    "stats.levene(SingleStamp, MultipleStamp, SingleMouse, MultipleMouse)"
   ]
  },
  {
   "cell_type": "markdown",
   "metadata": {},
   "source": [
    "Da der p-value des Levene Tests 0,05 unterschreitet ist das Ergebnis statistisch signifikant und damit kann kein ANOVA durchgeführt werden, da die Homogenität der Varianzen nicht gegeben ist.\n",
    "--> Kruskal-Wallis-Test um festzustellen ob zwischen den 4 Hauptdurchläufen statistisch signifikante Unterschiede bestehen"
   ]
  },
  {
   "cell_type": "code",
   "execution_count": 22,
   "metadata": {},
   "outputs": [
    {
     "data": {
      "text/plain": [
       "KruskalResult(statistic=17.67405045896775, pvalue=0.0005134510368305698)"
      ]
     },
     "execution_count": 22,
     "metadata": {},
     "output_type": "execute_result"
    }
   ],
   "source": [
    "stats.kruskal(SingleStamp, MultipleStamp, SingleMouse, MultipleMouse)"
   ]
  },
  {
   "cell_type": "markdown",
   "metadata": {},
   "source": [
    "Da der Kruskal-Wallis-Test eindeutig signifikant ist bedeutet das, dass zwischen den Datensätzen statistisch signifikante Unterschiede bestehen und deshalb weitere Analysen notwendig sind um diese genauer festzustellen.\n",
    "Hierzu wird der Mann-Whitney-U-Test verwendet zwischen den einzelnen Ausprägungen der Variablen."
   ]
  },
  {
   "cell_type": "code",
   "execution_count": 26,
   "metadata": {},
   "outputs": [
    {
     "name": "stdout",
     "output_type": "stream",
     "text": [
      "MannwhitneyuResult(statistic=22.0, pvalue=0.5751735319201967)\n",
      "MannwhitneyuResult(statistic=42.0, pvalue=0.003361339474765026)\n",
      "MannwhitneyuResult(statistic=36.0, pvalue=0.005074868097940253)\n",
      "MannwhitneyuResult(statistic=41.0, pvalue=0.005278155469013175)\n",
      "MannwhitneyuResult(statistic=36.0, pvalue=0.005074868097940253)\n",
      "MannwhitneyuResult(statistic=21.0, pvalue=0.9429784240576059)\n"
     ]
    }
   ],
   "source": [
    "print(stats.mannwhitneyu(SingleMouse, MultipleMouse, alternative='two-sided'))\n",
    "print(stats.mannwhitneyu(SingleMouse, SingleStamp, alternative='two-sided'))\n",
    "print(stats.mannwhitneyu(SingleMouse, MultipleStamp,alternative='two-sided'))\n",
    "print(stats.mannwhitneyu(MultipleMouse, SingleStamp,alternative='two-sided'))\n",
    "print(stats.mannwhitneyu(MultipleMouse, MultipleStamp,alternative='two-sided'))\n",
    "print(stats.mannwhitneyu(SingleStamp, MultipleStamp,alternative='two-sided'))"
   ]
  },
  {
   "cell_type": "markdown",
   "metadata": {},
   "source": [
    "## Paarweise Whitney-U-Test Resultate:\n",
    "Aus dem Paarweisen vergleichen geht hervor, dass keine statistisch signifikanten Unterschiede zwischen SingleMouse und MultipleMouse oder zwischen SingleStamp und MultipleStamp gefunden werden können.\n",
    "\n",
    "<br> Allerdings sind die Unterschiede bei allen anderen paarweisen Vergleichen, also jeglichem Vergleich zwischen einer Stamp und einer Maus variante, signifikant nach dem p-value. Das heißt es bestehen signifikante statistische Unterschiede in der Task Completion Time zwischen den einzelnen Maus und Stamp Varianten. Die Stärke dieses Effekts soll mit dem Pearson R festgestellt werden."
   ]
  },
  {
   "cell_type": "code",
   "execution_count": 30,
   "metadata": {},
   "outputs": [
    {
     "name": "stdout",
     "output_type": "stream",
     "text": [
      "(-0.3210148266146189, 0.5350181323077161)\n",
      "(0.4337542747709328, 0.39017245341227114)\n"
     ]
    }
   ],
   "source": [
    "print(stats.pearsonr(SingleMouse, MultipleStamp))\n",
    "print(stats.pearsonr(MultipleMouse, MultipleStamp))"
   ]
  },
  {
   "cell_type": "markdown",
   "metadata": {},
   "source": [
    "Aufgrund der Unterschiedlichen größen funktioniert pearsons R nur für 2 der 4 kombinationen, teststärke zu gering\n",
    "https://www.statistikhq.de/teststaerke.php"
   ]
  },
  {
   "cell_type": "code",
   "execution_count": null,
   "metadata": {},
   "outputs": [],
   "source": []
  },
  {
   "cell_type": "code",
   "execution_count": 8,
   "metadata": {},
   "outputs": [
    {
     "ename": "NameError",
     "evalue": "name 'NaN' is not defined",
     "output_type": "error",
     "traceback": [
      "\u001b[1;31m---------------------------------------------------------------------------\u001b[0m",
      "\u001b[1;31mNameError\u001b[0m                                 Traceback (most recent call last)",
      "\u001b[1;32m<ipython-input-8-2d61229070b9>\u001b[0m in \u001b[0;36m<module>\u001b[1;34m\u001b[0m\n\u001b[1;32m----> 1\u001b[1;33m \u001b[0mNaN\u001b[0m\u001b[1;33m.\u001b[0m\u001b[0mtype\u001b[0m\u001b[1;33m\u001b[0m\u001b[1;33m\u001b[0m\u001b[0m\n\u001b[0m",
      "\u001b[1;31mNameError\u001b[0m: name 'NaN' is not defined"
     ]
    }
   ],
   "source": []
  },
  {
   "cell_type": "code",
   "execution_count": null,
   "metadata": {},
   "outputs": [],
   "source": []
  }
 ],
 "metadata": {
  "kernelspec": {
   "display_name": "Python 3",
   "language": "python",
   "name": "python3"
  },
  "language_info": {
   "codemirror_mode": {
    "name": "ipython",
    "version": 3
   },
   "file_extension": ".py",
   "mimetype": "text/x-python",
   "name": "python",
   "nbconvert_exporter": "python",
   "pygments_lexer": "ipython3",
   "version": "3.8.3"
  }
 },
 "nbformat": 4,
 "nbformat_minor": 4
}
