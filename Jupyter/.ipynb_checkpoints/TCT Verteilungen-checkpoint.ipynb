{
 "cells": [
  {
   "cell_type": "markdown",
   "metadata": {},
   "source": [
    "# Bachelor Zeiten und Zeitverteilungen\n",
    "\n",
    "\n",
    "<br>SSt: 56, 58, 56, 87, 76, 101, 50 = 484s = 8:04min gesamt;\n",
    "<br>MSt: 59, 69, 66, ??, 57, 85, 51 = 387s+ ?? = 6:27min + ?? gesamt;(davon beidhändig: ca. 118s, aber kein teil des sets da absturz)\n",
    "<br>MM: 97, 529, ??, 152, 172, 273, 174= 1397s + ?? = 23:17min + ?? gesamt; davon beidhändig: 300s\n",
    "<br>SM: 358, 424, 216, 489, 140, 319(abbruch), 166 = 1793s + 319(abbruch) = 29:53 min + 5:19 abbruch gesamt; \n",
    "<br>\n",
    "--> Gesamtwerte; ?? und abbrüche entfernt\n",
    "\n",
    "<br>Mouse gesamt: 23:17min+29:53min = 97, 529, 152, 172, 273, 174, 358, 424, 216, 489, 140, 166 = 53:10 min;\n",
    "<br>Stamp gesamt: 8:04min+6:27min = 56, 58, 56, 87, 76, 101, 50, 59, 69, 66, 57, 85, 51 = 14:31 min; \n",
    "\n",
    "<br>Single gesamt: 8:04min+29:53min = 56, 58, 56, 87, 76, 101, 50, 358, 424, 216, 489, 140, 166 = 37:57min;\n",
    "<br>Multiple gesamt: 6:27min+23:17min = 59, 69, 66, 57, 85, 51, 97, 529, 152, 172, 273, 174 = 29:44min;s\n",
    "<br>Beidhändige Zeit bei Multiple gesamt: 300s = 5:00min (118s aus S4 MST nicht inbegriffen, siehe oben)"
   ]
  },
  {
   "cell_type": "code",
   "execution_count": 28,
   "metadata": {},
   "outputs": [
    {
     "name": "stdout",
     "output_type": "stream",
     "text": [
      "       SingleStamp  MultipleStamp  SingleMouse  MultipleMouse   MousePure  \\\n",
      "count     7.000000       6.000000     6.000000       7.000000    7.000000   \n",
      "mean     69.142857      64.500000   298.833333     226.428571  482.571429   \n",
      "std      19.221763      11.928956   144.958500     143.293239  240.373915   \n",
      "min      50.000000      51.000000   140.000000      97.000000  273.000000   \n",
      "25%      56.000000      57.500000   178.500000     162.000000  326.000000   \n",
      "50%      58.000000      62.500000   287.000000     174.000000  404.000000   \n",
      "75%      81.500000      68.250000   407.500000     230.500000  548.000000   \n",
      "max     101.000000      85.000000   489.000000     529.000000  953.000000   \n",
      "\n",
      "        StampPure  SinglePure  MultiplePure  \n",
      "count    7.000000    7.000000      7.000000  \n",
      "mean   124.428571  325.285714    281.714286  \n",
      "std     31.399879  169.468497    155.589968  \n",
      "min     87.000000  101.000000    152.000000  \n",
      "25%    108.000000  216.000000    190.500000  \n",
      "50%    122.000000  272.000000    229.000000  \n",
      "75%    130.000000  448.000000    306.000000  \n",
      "max    186.000000  576.000000    598.000000  \n"
     ]
    }
   ],
   "source": [
    "from matplotlib import pyplot as plt\n",
    "import scipy.stats as stats\n",
    "import numpy as np\n",
    "import pandas as pd\n",
    "\n",
    "TCTs = pd.read_csv(\"TCTs.csv\")\n",
    "\n",
    "# Obergruppen der Zeiten bilden, errechnet und nicht abgespeichert da nicht gemessen;\n",
    "# fillna(0) ersetzt NaN durch 0 damit die addition nicht wieder NaN ergibt\n",
    "\n",
    "TCTsCalc = TCTs.fillna(0)\n",
    "TCTs[\"MousePure\"] = TCTsCalc[\"SingleMouse\"]+TCTsCalc[\"MultipleMouse\"]\n",
    "TCTs[\"StampPure\"] = TCTsCalc[\"SingleStamp\"]+TCTsCalc[\"MultipleStamp\"]\n",
    "TCTs[\"SinglePure\"] = TCTsCalc[\"SingleStamp\"]+TCTsCalc[\"SingleMouse\"]\n",
    "TCTs[\"MultiplePure\"] = TCTsCalc[\"MultipleMouse\"]+TCTsCalc[\"MultipleStamp\"]\n",
    "print(TCTs.describe())\n",
    "\n",
    "\n",
    "# Listen für Test methoden, NaN komplett entfernt um Verfälschungen zu vermeiden\n",
    "\n",
    "SingleStamp = TCTs[\"SingleStamp\"].tolist()\n",
    "MultipleStamp = TCTs[\"MultipleStamp\"].tolist()\n",
    "MultipleStamp = [x for x in MultipleStamp if (np.isnan(x) == False)]\n",
    "SingleMouse = TCTs[\"SingleMouse\"].tolist()\n",
    "SingleMouse = [x for x in SingleMouse if (np.isnan(x) == False)]\n",
    "MultipleMouse = TCTs[\"MultipleMouse\"].tolist()\n",
    "MousePure = TCTs[\"MousePure\"].tolist()\n",
    "StampPure = TCTs[\"StampPure\"].tolist()\n",
    "SinglePure = TCTs[\"SinglePure\"].tolist()\n",
    "MultiplePure = TCTs[\"MultiplePure\"].tolist()\n",
    "\n",
    "\n",
    "\n",
    "# Quelle: https://machinelearningmastery.com/effect-size-measures-in-python/\n",
    "# function to calculate Cohen's d for independent samples\n",
    "def cohend(d1, d2):\n",
    "# calculate the size of samples\n",
    "    n1 = len(d1)\n",
    "    n2 = len(d2)\n",
    "# calculate the variance of the samples\n",
    "    s1 = np.var(d1, ddof=1)\n",
    "    s2 = np.var(d2, ddof=1)\n",
    "# calculate the pooled standard deviation\n",
    "    s = np.sqrt(((n1 - 1) * s1 + (n2 - 1) * s2) / (n1 + n2 - 2))\n",
    "# calculate the means of the samples\n",
    "    u1 = np.mean(d1)\n",
    "    u2 = np.mean(d2)\n",
    "# calculate the effect size\n",
    "    return (u1 - u2) / s"
   ]
  },
  {
   "cell_type": "markdown",
   "metadata": {},
   "source": [
    "## Notes\n",
    "\n",
    "STD hat einen ddof von 1, funktioniert für kleine stichproben besser ist aber immernohc ein bias\n",
    "\n",
    "Deutlich höhere TCTs bei der Maus Interaktion, allerdings auch weit größere Varianz, zurückzuführen auf Taktiken und technische Umsetzungen ODER stichprobengröße"
   ]
  },
  {
   "cell_type": "markdown",
   "metadata": {},
   "source": [
    "## Normalverteilungstests\n",
    "Shapiro-Wilk-Tests zur feststellung der Normalverteilung der Sets, da dieser auch bei kleinen Datensets funktioniert. Signifikanznivea = 0,05, also bei pvalue größer als 0,05 können die Daten als normalverteilt angenommen werden."
   ]
  },
  {
   "cell_type": "code",
   "execution_count": 33,
   "metadata": {},
   "outputs": [
    {
     "name": "stdout",
     "output_type": "stream",
     "text": [
      "SingleStamp; ShapiroResult(statistic=0.8730947971343994, pvalue=0.19751839339733124)\n",
      " \n",
      "MultipleStamp; ShapiroResult(statistic=0.9389810562133789, pvalue=0.650999903678894)\n",
      " \n",
      "SingleMouse; ShapiroResult(statistic=0.910857081413269, pvalue=0.4420590102672577)\n",
      " \n",
      "MultipleMouse; ShapiroResult(statistic=0.770541250705719, pvalue=0.02069319412112236)\n",
      " \n",
      "MousePure; ShapiroResult(statistic=0.8399927020072937, pvalue=0.09934231638908386)\n",
      " \n",
      "StampPure; ShapiroResult(statistic=0.9027397632598877, pvalue=0.3478955328464508)\n",
      " \n",
      "SinglePure; ShapiroResult(statistic=0.9496327042579651, pvalue=0.7263539433479309)\n",
      " \n",
      "MultiplePure; ShapiroResult(statistic=0.8109632730484009, pvalue=0.05249190330505371)\n"
     ]
    }
   ],
   "source": [
    "print (\"SingleStamp; \" + str(stats.shapiro(SingleStamp)))\n",
    "print (\" \")\n",
    "print (\"MultipleStamp; \" + str(stats.shapiro(MultipleStamp)))\n",
    "print (\" \")\n",
    "print (\"SingleMouse; \" + str(stats.shapiro(SingleMouse)))\n",
    "print (\" \")\n",
    "print (\"MultipleMouse; \" + str(stats.shapiro(MultipleMouse)))\n",
    "print (\" \")\n",
    "print (\"MousePure; \" + str(stats.shapiro(MousePure)) )\n",
    "print (\" \")\n",
    "print (\"StampPure; \" + str(stats.shapiro(StampPure)))\n",
    "print (\" \")\n",
    "print (\"SinglePure; \" + str(stats.shapiro(SinglePure)))\n",
    "print (\" \")\n",
    "print (\"MultiplePure; \" + str(stats.shapiro(MultiplePure)))"
   ]
  },
  {
   "cell_type": "markdown",
   "metadata": {},
   "source": [
    "### Normalverteilungen der Hauptdurchläufe\n",
    "\n",
    "Die TCTs der Durchläufe für SingleStamp, MultipleStamp und SingleMouse, sowie die Kombinierten Sets MousePure, StampPure und SinglePure können in jedem Fall als normalverteilt angenommen werden.\n",
    "<br>\n",
    "MultipleMouse und MultiplePure können in jedem Fall aufgrund des Tests als nicht normalverteilt angenommen werden.\n",
    "\n",
    "\n",
    "\n",
    "## Levene Tests\n",
    "Zur Feststellung ob der ANOVA durchgeführt werdne kann."
   ]
  },
  {
   "cell_type": "code",
   "execution_count": 3,
   "metadata": {},
   "outputs": [
    {
     "data": {
      "text/plain": [
       "LeveneResult(statistic=3.867522672797445, pvalue=0.023132921557706698)"
      ]
     },
     "execution_count": 3,
     "metadata": {},
     "output_type": "execute_result"
    }
   ],
   "source": [
    "stats.levene(SingleStamp, MultipleStamp, SingleMouse, MultipleMouse)"
   ]
  },
  {
   "cell_type": "markdown",
   "metadata": {},
   "source": [
    "Da der p-value des Levene Tests 0,05 unterschreitet ist das Ergebnis statistisch signifikant und damit kann kein ANOVA durchgeführt werden, da die Homogenität der Varianzen nicht gegeben ist.\n",
    "--> Kruskal-Wallis-Test um festzustellen ob zwischen den 4 Hauptdurchläufen statistisch signifikante Unterschiede bestehen"
   ]
  },
  {
   "cell_type": "code",
   "execution_count": 4,
   "metadata": {},
   "outputs": [
    {
     "data": {
      "text/plain": [
       "KruskalResult(statistic=18.501237704384096, pvalue=0.00034662533998986)"
      ]
     },
     "execution_count": 4,
     "metadata": {},
     "output_type": "execute_result"
    }
   ],
   "source": [
    "stats.kruskal(SingleStamp, MultipleStamp, SingleMouse, MultipleMouse)"
   ]
  },
  {
   "cell_type": "markdown",
   "metadata": {},
   "source": [
    "Da der Kruskal-Wallis-Test eindeutig signifikant ist bedeutet das, dass zwischen den Datensätzen statistisch signifikante Unterschiede bestehen und deshalb weitere Analysen notwendig sind um diese genauer festzustellen.\n",
    "Hierzu wird der Mann-Whitney-U-Test verwendet zwischen den einzelnen Ausprägungen der Variablen."
   ]
  },
  {
   "cell_type": "code",
   "execution_count": 5,
   "metadata": {},
   "outputs": [
    {
     "name": "stdout",
     "output_type": "stream",
     "text": [
      "SM-MM: \n",
      "MannwhitneyuResult(statistic=26.0, pvalue=0.5203168005073666)\n",
      "\n",
      "SM-SST: \n",
      "MannwhitneyuResult(statistic=42.0, pvalue=0.003361339474765026)\n",
      "\n",
      "SM-MST: \n",
      "MannwhitneyuResult(statistic=36.0, pvalue=0.005074868097940253)\n",
      "\n",
      "MM-SST: \n",
      "MannwhitneyuResult(statistic=48.0, pvalue=0.0032602936019101424)\n",
      "\n",
      "MM-MSt: \n",
      "MannwhitneyuResult(statistic=42.0, pvalue=0.0034052358212947604)\n",
      "\n",
      "SST-MST: \n",
      "MannwhitneyuResult(statistic=21.0, pvalue=0.9429784240576059)\n"
     ]
    }
   ],
   "source": [
    "print(\"SM-MM: \")\n",
    "print(stats.mannwhitneyu(SingleMouse, MultipleMouse, alternative='two-sided'))\n",
    "print(\"\")\n",
    "print(\"SM-SST: \")\n",
    "print(stats.mannwhitneyu(SingleMouse, SingleStamp, alternative='two-sided'))\n",
    "print(\"\")\n",
    "print(\"SM-MST: \")\n",
    "print(stats.mannwhitneyu(SingleMouse, MultipleStamp,alternative='two-sided'))\n",
    "print(\"\")\n",
    "print(\"MM-SST: \")\n",
    "print(stats.mannwhitneyu(MultipleMouse, SingleStamp,alternative='two-sided'))\n",
    "print(\"\")\n",
    "print(\"MM-MSt: \")\n",
    "print(stats.mannwhitneyu(MultipleMouse, MultipleStamp,alternative='two-sided'))\n",
    "print(\"\")\n",
    "print(\"SST-MST: \")\n",
    "print(stats.mannwhitneyu(SingleStamp, MultipleStamp,alternative='two-sided'))\n"
   ]
  },
  {
   "cell_type": "markdown",
   "metadata": {},
   "source": [
    "## Paarweise Whitney-U-Test Resultate:\n",
    "Aus dem Paarweisen vergleichen geht hervor, dass keine statistisch signifikanten Unterschiede zwischen SingleMouse und MultipleMouse oder zwischen SingleStamp und MultipleStamp gefunden werden können.\n",
    "\n",
    "<br> Allerdings sind die Unterschiede bei allen anderen paarweisen Vergleichen, also jeglichem Vergleich zwischen einer Stamp und einer Maus variante, signifikant nach dem p-value. Das heißt es bestehen signifikante statistische Unterschiede in der Task Completion Time zwischen den einzelnen Maus und Stamp Varianten. Die Stärke dieses Effekts soll mit cohens D und pearsons R gemessen werden"
   ]
  },
  {
   "cell_type": "code",
   "execution_count": 6,
   "metadata": {},
   "outputs": [
    {
     "name": "stdout",
     "output_type": "stream",
     "text": [
      "2.325822280549349\n",
      "2.2784516449941052\n",
      "1.5385297652955932\n",
      "1.5256960627274478\n"
     ]
    }
   ],
   "source": [
    "print(cohend(SingleMouse, SingleStamp))\n",
    "print(cohend(SingleMouse, MultipleStamp))\n",
    "print(cohend(MultipleMouse, SingleStamp))\n",
    "print(cohend(MultipleMouse, MultipleStamp))"
   ]
  },
  {
   "cell_type": "markdown",
   "metadata": {},
   "source": [
    "Nach Cohens D sind alle effekte sehr stark (>0.8)\n",
    "\n",
    "\n",
    "Aufgrund der Unterschiedlichen größen funktioniert pearsons R nur für 2 der 4 kombinationen, und nur eine davon hat normalverteilte daten; teststärke zu gering\n",
    "https://www.statistikhq.de/teststaerke.php"
   ]
  },
  {
   "cell_type": "markdown",
   "metadata": {},
   "source": [
    "Eine post-hoc überprüfung der Teststärke via GPower ergab folgendes:\n",
    "<br>\n",
    "Vergleich // Teststärke (1-BetafehlerWahrscheinlichkeit)\n",
    "<br>\n",
    "SM-SST // 0.958\n",
    "<br>\n",
    "SM-MST // 0.931\n",
    "<br>\n",
    "MM-SST // 0.676\n",
    "<br>\n",
    "MM-MST // 0.626\n",
    "\n",
    "\n",
    "\n",
    "<br>\n",
    "Das heißt, dass die Teststärke nur für 2 der 4 überhaupt statistisch signifikanten Ergebnisse ausreicht um eine Aussage treffen zu können.\n",
    "\n",
    "Die beiden Durchläufe mit ausreichender Teststärke sind und signifikanten Ergebnissen sind SM-SST und SM-MST. Dieses Ergebnis ist nicht überraschend, da der SingleMOuse durchlauf die längsten durchlaufzeiten hat und im Durchschnitt über 4 Mal so lange dauert wie ein Durchlauf von einem der beiden Stamp durchläufe."
   ]
  },
  {
   "cell_type": "markdown",
   "metadata": {},
   "source": [
    "Combinierte Varianten Mouse/Stamp Pure:"
   ]
  },
  {
   "cell_type": "code",
   "execution_count": 14,
   "metadata": {},
   "outputs": [
    {
     "name": "stdout",
     "output_type": "stream",
     "text": [
      "MousePure-StampPure: \n",
      "MannwhitneyuResult(statistic=49.0, pvalue=0.002165029333038379)\n",
      "\n",
      "Cohens D: \n",
      "2.0893433252113804\n",
      "\n",
      "Pearsons R: \n",
      "(-0.3377340212675727, 0.4587772402482847)\n"
     ]
    }
   ],
   "source": [
    "print(\"MousePure-StampPure: \")\n",
    "print(stats.mannwhitneyu(MousePure, StampPure, alternative='two-sided'))\n",
    "print(\"\")\n",
    "print(\"Cohens D: \")\n",
    "print(cohend(MousePure, StampPure))"
   ]
  },
  {
   "cell_type": "markdown",
   "metadata": {},
   "source": [
    "Eine Untersuchung der Teststärke mit G-Power ergab für diesen Durchlauf eine Teststärke von 0.999 bei einem Signifikanzniveau von alpha=0,05. Das bedeutet, das statistisch signifikante ergebnisse mit sehr starker (cohens D) \n",
    "Korrelation. "
   ]
  },
  {
   "cell_type": "markdown",
   "metadata": {},
   "source": [
    "Vergleiche zwischen den kombinierten Durchläufen SinglePure und MultiplePure sind aufgrund der starken Unterschiede zwischen den Maus und Stamp durchläufen wenig sinnvoll aber der vollständigkeit halber werden sie durchgeführt:"
   ]
  },
  {
   "cell_type": "code",
   "execution_count": 16,
   "metadata": {},
   "outputs": [
    {
     "name": "stdout",
     "output_type": "stream",
     "text": [
      "SinglePure-MultiplePure: \n",
      "MannwhitneyuResult(statistic=27.0, pvalue=0.7980806294582996)\n",
      "\n",
      "Cohens D: \n",
      "0.2678396303045334\n"
     ]
    }
   ],
   "source": [
    "print(\"SinglePure-MultiplePure: \")\n",
    "print(stats.mannwhitneyu(SinglePure, MultiplePure, alternative='two-sided'))\n",
    "print(\"\")\n",
    "print(\"Cohens D: \")\n",
    "print(cohend(SinglePure, MultiplePure))"
   ]
  },
  {
   "cell_type": "markdown",
   "metadata": {},
   "source": [
    "der Mann-Whitney-U Test zeigt kein signifikantes Ergebnis, zusätzlich zu cohens D, dass nur einen kleinen Effekt anzeigt. Die verwendeten Kombinierten Datensätze sind wie erwähnt durch die starken Unterschiede der Stamp und Mouse Varianten wenig aussagekräftig und daher ist dieses Ergebnis wenig überraschend.\n",
    "\n",
    "# Gesamt Unterschiede\n",
    "\n",
    "Statistisch Signifikante Unterschiede in der Task Completion Time konnten festgestellt werden zwischen allen Durchläufen die Maus und Stamp Interaktionen Vergleichen, inklusive der kombinierten MousePure und StampPure Varianten. Von diesen 5 statistisch signifikanten Unterschieden sind allerdings nur 3 auch nach einer post-hoc Analyse der Teststärke via g-power noch aussagekräftig.\n",
    "<br>\n",
    "Ausgehend von diesen Ergebnissen kann vermutet werden, dass bei größeren Stichproben die aussagekraft steigt und auch die momentan schwachen Tests aussagekräftig würden, aber ohne weitere Studien ist dies nur eine Annahme.\n",
    "<br>\n",
    "<br>\n",
    "Im Durchlauf Multiple Mouse wurde von 3 Probanden beidhändig gearbeitet, wovon ein Proband nahezu ausschließlich beidhändig arbeitete währen 2 nur teilweise beidhändig arbeiteten. Aufgrund der gemischten Durchläufe und noch kleineren Stichprobengröße für diesen Vergleich machen statistische Tests jedoch keinen Sinn.\n",
    "<br> \n",
    "oder\n",
    "<br>\n",
    "Aufgrund der noch kleineren Stichprobe macht es keinen Sinn die beidhändigen mit den einhändigen Durchläufen in Multiple Mouse zu vergleichen, allerdings sind 3 dieser Durchläufe zumindest in Teilen beidhändig ausgeführt mit einem Durchlauf der nahezu ausschließlich beidhändig arbeitete.\n",
    "<br>"
   ]
  },
  {
   "cell_type": "code",
   "execution_count": 29,
   "metadata": {},
   "outputs": [
    {
     "data": {
      "text/html": [
       "<div>\n",
       "<style scoped>\n",
       "    .dataframe tbody tr th:only-of-type {\n",
       "        vertical-align: middle;\n",
       "    }\n",
       "\n",
       "    .dataframe tbody tr th {\n",
       "        vertical-align: top;\n",
       "    }\n",
       "\n",
       "    .dataframe thead th {\n",
       "        text-align: right;\n",
       "    }\n",
       "</style>\n",
       "<table border=\"1\" class=\"dataframe\">\n",
       "  <thead>\n",
       "    <tr style=\"text-align: right;\">\n",
       "      <th></th>\n",
       "      <th>SingleStamp</th>\n",
       "      <th>MultipleStamp</th>\n",
       "      <th>SingleMouse</th>\n",
       "      <th>MultipleMouse</th>\n",
       "      <th>MousePure</th>\n",
       "      <th>StampPure</th>\n",
       "      <th>SinglePure</th>\n",
       "      <th>MultiplePure</th>\n",
       "    </tr>\n",
       "  </thead>\n",
       "  <tbody>\n",
       "    <tr>\n",
       "      <th>mean</th>\n",
       "      <td>69.142857</td>\n",
       "      <td>64.500000</td>\n",
       "      <td>298.833333</td>\n",
       "      <td>226.428571</td>\n",
       "      <td>482.571429</td>\n",
       "      <td>124.428571</td>\n",
       "      <td>325.285714</td>\n",
       "      <td>281.714286</td>\n",
       "    </tr>\n",
       "    <tr>\n",
       "      <th>std</th>\n",
       "      <td>19.221763</td>\n",
       "      <td>11.928956</td>\n",
       "      <td>144.958500</td>\n",
       "      <td>143.293239</td>\n",
       "      <td>240.373915</td>\n",
       "      <td>31.399879</td>\n",
       "      <td>169.468497</td>\n",
       "      <td>155.589968</td>\n",
       "    </tr>\n",
       "  </tbody>\n",
       "</table>\n",
       "</div>"
      ],
      "text/plain": [
       "      SingleStamp  MultipleStamp  SingleMouse  MultipleMouse   MousePure  \\\n",
       "mean    69.142857      64.500000   298.833333     226.428571  482.571429   \n",
       "std     19.221763      11.928956   144.958500     143.293239  240.373915   \n",
       "\n",
       "       StampPure  SinglePure  MultiplePure  \n",
       "mean  124.428571  325.285714    281.714286  \n",
       "std    31.399879  169.468497    155.589968  "
      ]
     },
     "execution_count": 29,
     "metadata": {},
     "output_type": "execute_result"
    }
   ],
   "source": [
    "timeplot = TCTs.describe()\n",
    "\n",
    "timeplot = timeplot.drop([\"count\"])\n",
    "timeplot = timeplot.drop([\"25%\"])\n",
    "timeplot = timeplot.drop([\"50%\"])\n",
    "timeplot = timeplot.drop([\"75%\"])\n",
    "timeplot = timeplot.drop([\"min\"])\n",
    "timeplot = timeplot.drop([\"max\"])\n",
    "\n",
    "timeplot.head()\n"
   ]
  },
  {
   "cell_type": "code",
   "execution_count": 32,
   "metadata": {},
   "outputs": [
    {
     "data": {
      "text/plain": [
       "<AxesSubplot:title={'center':'Mean and Standard Deviance of Task Completion Time in seconds'}, ylabel='Time in seconds'>"
      ]
     },
     "execution_count": 32,
     "metadata": {},
     "output_type": "execute_result"
    },
    {
     "data": {
      "image/png": "[encoded data removed]",
      "text/plain": [
       "<Figure size 1080x720 with 1 Axes>"
      ]
     },
     "metadata": {
      "needs_background": "light"
     },
     "output_type": "display_data"
    }
   ],
   "source": [
    "timeplot.plot.bar(figsize = (15, 10), title=\"Mean and Standard Deviance of Task Completion Time in seconds\", ylabel = \"Time in seconds\")"
   ]
  },
  {
   "cell_type": "code",
   "execution_count": null,
   "metadata": {},
   "outputs": [],
   "source": []
  }
 ],
 "metadata": {
  "kernelspec": {
   "display_name": "Python 3",
   "language": "python",
   "name": "python3"
  },
  "language_info": {
   "codemirror_mode": {
    "name": "ipython",
    "version": 3
   },
   "file_extension": ".py",
   "mimetype": "text/x-python",
   "name": "python",
   "nbconvert_exporter": "python",
   "pygments_lexer": "ipython3",
   "version": "3.8.3"
  }
 },
 "nbformat": 4,
 "nbformat_minor": 4
}
